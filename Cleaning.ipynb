{
 "cells": [
  {
   "cell_type": "code",
   "execution_count": 1,
   "id": "17eedace-b000-4503-b9b0-3ed2394719b0",
   "metadata": {},
   "outputs": [],
   "source": [
    "import pandas as pd\n"
   ]
  },
  {
   "cell_type": "code",
   "execution_count": 2,
   "id": "ae722440-b517-4115-b9e6-fc6c71616b60",
   "metadata": {},
   "outputs": [],
   "source": [
    "#Load Dataset\n",
    "df = pd.read_csv(\"netflix_titles.csv\")"
   ]
  },
  {
   "cell_type": "code",
   "execution_count": 3,
   "id": "a4cf19ca-2003-4f65-aa33-4ca6023e6adc",
   "metadata": {},
   "outputs": [
    {
     "name": "stdout",
     "output_type": "stream",
     "text": [
      "Missing values per column:\n",
      " show_id            0\n",
      "type               0\n",
      "title              0\n",
      "director        2634\n",
      "cast             825\n",
      "country          831\n",
      "date_added        10\n",
      "release_year       0\n",
      "rating             4\n",
      "duration           3\n",
      "listed_in          0\n",
      "description        0\n",
      "dtype: int64\n"
     ]
    }
   ],
   "source": [
    "# 1. Identify and handle missing values\n",
    "print(\"Missing values per column:\\n\", df.isnull().sum())"
   ]
  },
  {
   "cell_type": "code",
   "execution_count": 4,
   "id": "eb74ec7d-549e-4bba-bb42-1a11416abb14",
   "metadata": {},
   "outputs": [
    {
     "name": "stdout",
     "output_type": "stream",
     "text": [
      "Missing values per column:\n",
      " show_id         0\n",
      "type            0\n",
      "title           0\n",
      "director        0\n",
      "cast            0\n",
      "country         0\n",
      "date_added      0\n",
      "release_year    0\n",
      "rating          0\n",
      "duration        0\n",
      "listed_in       0\n",
      "description     0\n",
      "dtype: int64\n"
     ]
    }
   ],
   "source": [
    "df.fillna(\"Unknown\", inplace=True)\n",
    "print(\"Missing values per column:\\n\", df.isnull().sum())"
   ]
  },
  {
   "cell_type": "code",
   "execution_count": 5,
   "id": "2d096790-a7f4-493b-8321-20b4641145b3",
   "metadata": {},
   "outputs": [],
   "source": [
    "df = df.drop_duplicates()"
   ]
  },
  {
   "cell_type": "code",
   "execution_count": 6,
   "id": "008b4b06-34af-40ba-a099-c88ed825070e",
   "metadata": {},
   "outputs": [
    {
     "data": {
      "text/plain": [
       "Index(['show_id', 'type', 'title', 'director', 'cast', 'country', 'date_added',\n",
       "       'release_year', 'rating', 'duration', 'listed_in', 'description'],\n",
       "      dtype='object')"
      ]
     },
     "execution_count": 6,
     "metadata": {},
     "output_type": "execute_result"
    }
   ],
   "source": [
    "df.columns"
   ]
  },
  {
   "cell_type": "code",
   "execution_count": 7,
   "id": "9c85d7e4-e23b-4332-b1a4-eed19d613faf",
   "metadata": {},
   "outputs": [],
   "source": [
    "# 3. Standardize text values\n",
    "df['type'] = df['type'].str.strip().str.lower().str.title()\n",
    "df['country'] = df['country'].str.strip().str.lower().str.title()\n",
    "df['director'] =df['director'].str.strip().str.lower().str.title()"
   ]
  },
  {
   "cell_type": "code",
   "execution_count": 8,
   "id": "4e4d94f6-8e76-49ba-a13c-9705819a5f56",
   "metadata": {},
   "outputs": [],
   "source": [
    "# 4. Convert 'date_added' to datetime, then format as dd-mm-yyyy\n",
    "df['date_added'] = pd.to_datetime(df['date_added'], errors='coerce', format='%B %d, %Y')\n",
    "df['date_added'] = df['date_added'].dt.strftime('%d-%m-%Y')"
   ]
  },
  {
   "cell_type": "code",
   "execution_count": 9,
   "id": "21cc7d3e-e42d-4080-a3e8-d3e96c55bcc6",
   "metadata": {},
   "outputs": [],
   "source": [
    "# 5. Rename column headers to be clean and uniform\n",
    "df.columns = df.columns.str.strip().str.lower().str.replace(' ', '_')"
   ]
  },
  {
   "cell_type": "code",
   "execution_count": 11,
   "id": "c41c60b3-606b-4822-9102-57d785350531",
   "metadata": {},
   "outputs": [
    {
     "name": "stdout",
     "output_type": "stream",
     "text": [
      "Data types before fixing:\n",
      " 0         Movie\n",
      "1       Tv Show\n",
      "2       Tv Show\n",
      "3       Tv Show\n",
      "4       Tv Show\n",
      "         ...   \n",
      "8802      Movie\n",
      "8803    Tv Show\n",
      "8804      Movie\n",
      "8805      Movie\n",
      "8806      Movie\n",
      "Name: type, Length: 8807, dtype: object\n"
     ]
    }
   ],
   "source": [
    "# 6. Check and fix data types\n",
    "print(\"Data types before fixing:\\n\", df.type)"
   ]
  },
  {
   "cell_type": "code",
   "execution_count": 14,
   "id": "f1a6bfa6-6d06-4d5f-bec4-70de9cd77458",
   "metadata": {},
   "outputs": [
    {
     "name": "stdout",
     "output_type": "stream",
     "text": [
      "Data Types after Fixing:\n",
      " 0         Movie\n",
      "1       Tv Show\n",
      "2       Tv Show\n",
      "3       Tv Show\n",
      "4       Tv Show\n",
      "         ...   \n",
      "8802      Movie\n",
      "8803    Tv Show\n",
      "8804      Movie\n",
      "8805      Movie\n",
      "8806      Movie\n",
      "Name: type, Length: 8807, dtype: object\n"
     ]
    }
   ],
   "source": [
    "df['release_year'] = df['release_year'].astype('Int64')\n",
    "df['date_added'] = pd.to_datetime(df['date_added'], errors = 'coerce', format='%d-%m-%Y')\n",
    "print(\"Data Types after Fixing:\\n\" , df.type)"
   ]
  },
  {
   "cell_type": "code",
   "execution_count": 15,
   "id": "645557c3-57b8-4782-9e31-b7506cdaf27a",
   "metadata": {},
   "outputs": [],
   "source": [
    "df.to_csv(\"netflix_cleaned.csv\", index=False)"
   ]
  },
  {
   "cell_type": "code",
   "execution_count": null,
   "id": "8458778d-c7de-4f5e-9155-13247726dc4c",
   "metadata": {},
   "outputs": [],
   "source": []
  }
 ],
 "metadata": {
  "kernelspec": {
   "display_name": "Python 3 (ipykernel)",
   "language": "python",
   "name": "python3"
  },
  "language_info": {
   "codemirror_mode": {
    "name": "ipython",
    "version": 3
   },
   "file_extension": ".py",
   "mimetype": "text/x-python",
   "name": "python",
   "nbconvert_exporter": "python",
   "pygments_lexer": "ipython3",
   "version": "3.12.7"
  }
 },
 "nbformat": 4,
 "nbformat_minor": 5
}
